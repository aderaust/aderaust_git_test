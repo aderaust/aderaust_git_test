{
 "cells": [
  {
   "cell_type": "code",
   "execution_count": 1,
   "metadata": {},
   "outputs": [],
   "source": [
    "import requests\n",
    "from bs4 import BeautifulSoup as soup\n",
    "import numpy as np"
   ]
  },
  {
   "cell_type": "code",
   "execution_count": 2,
   "metadata": {},
   "outputs": [],
   "source": [
    "\n",
    "def log_in():\n",
    "    '''This function logs the scrapper into the main menu with the approiate cookies'''\n",
    "    login_data = {'Username': 'msimone',\n",
    "                  'Password': 'targetsteel1',\n",
    "                  'RememberMe': 'false'}\n",
    "\n",
    "    \n",
    "    session = requests.Session()\n",
    "\n",
    "\n",
    "    login_screen = session.get('https://pc.arcelormittal.com/PartnerCentre/Login')\n",
    "\n",
    "    login_soup = soup(login_screen.content, 'lxml')\n",
    "\n",
    "    # this f value is dynamic\n",
    "\n",
    "    login_data['f'] = login_soup.find('input', {'name': 'f'})['value']\n",
    "\n",
    "    form_url = 'https://pc.arcelormittal.com/PartnerCentre/Login/account/login/'\n",
    "\n",
    "    main_page = session.post(form_url, login_data)\n",
    "    \n",
    "    return main_page, session\n"
   ]
  },
  {
   "cell_type": "code",
   "execution_count": 3,
   "metadata": {},
   "outputs": [],
   "source": [
    "main_page, session = log_in()\n"
   ]
  },
  {
   "cell_type": "code",
   "execution_count": 4,
   "metadata": {},
   "outputs": [],
   "source": [
    "# this code is an example of pulling data from the reports tab \n",
    "\n",
    "table_soup = soup(session.get('https://pc.arcelormittal.com/PartnerCentre/inv4Sale_InvConsReport.asp?RptID=53').text,\n",
    "                  'html.parser')"
   ]
  },
  {
   "cell_type": "code",
   "execution_count": 5,
   "metadata": {},
   "outputs": [],
   "source": [
    "target_steel_report_table = table_soup.find('table', {'border': \"1\", 'cellpadding':'3'})"
   ]
  },
  {
   "cell_type": "code",
   "execution_count": 6,
   "metadata": {},
   "outputs": [
    {
     "data": {
      "text/plain": [
       "'Sorted by\\xa0Minor Product, Business Unit, Category, Gauge, Width, Weight, Location, Grade\\r\\n'"
      ]
     },
     "execution_count": 6,
     "metadata": {},
     "output_type": "execute_result"
    }
   ],
   "source": [
    "target_steel_report_table.th.text\n"
   ]
  },
  {
   "cell_type": "code",
   "execution_count": 7,
   "metadata": {
    "scrolled": true
   },
   "outputs": [
    {
     "data": {
      "text/plain": [
       "['Select',\n",
       " 'Piece ID / Ref#',\n",
       " 'Minor Product',\n",
       " 'Business Unit',\n",
       " 'Category',\n",
       " 'Gauge',\n",
       " 'Width',\n",
       " 'Weight',\n",
       " 'Location',\n",
       " 'Grade',\n",
       " 'Chemistry',\n",
       " 'Comment',\n",
       " 'Defect',\n",
       " 'Trans#']"
      ]
     },
     "execution_count": 7,
     "metadata": {},
     "output_type": "execute_result"
    }
   ],
   "source": [
    "# creating col names from bs\n",
    "col_names = []\n",
    "for th in target_steel_report_table.findAll('th'):\n",
    "    col_names.append(th.text)\n",
    "\n",
    "del col_names[0]    \n",
    "    \n",
    "# del col_names[0:4]\n",
    "# del col_names[-1]\n",
    "col_names    "
   ]
  },
  {
   "cell_type": "code",
   "execution_count": 8,
   "metadata": {},
   "outputs": [],
   "source": [
    "# extracting data using bs\n",
    "table_iterator = target_steel_report_table.findAll('td')\n",
    "# del table_iterator[0]"
   ]
  },
  {
   "cell_type": "code",
   "execution_count": 9,
   "metadata": {},
   "outputs": [
    {
     "data": {
      "text/plain": [
       "{'Select': None,\n",
       " 'Piece ID / Ref#': None,\n",
       " 'Minor Product': None,\n",
       " 'Business Unit': None,\n",
       " 'Category': None,\n",
       " 'Gauge': None,\n",
       " 'Width': None,\n",
       " 'Weight': None,\n",
       " 'Location': None,\n",
       " 'Grade': None,\n",
       " 'Chemistry': None,\n",
       " 'Comment': None,\n",
       " 'Defect': None,\n",
       " 'Trans#': None}"
      ]
     },
     "execution_count": 9,
     "metadata": {},
     "output_type": "execute_result"
    }
   ],
   "source": [
    "# initalizing dictionary\n",
    "\n",
    "business_unit_dict = {el:None for el in col_names}\n",
    "\n",
    "business_unit_dict\n"
   ]
  },
  {
   "cell_type": "code",
   "execution_count": 140,
   "metadata": {},
   "outputs": [
    {
     "data": {
      "text/plain": [
       "'1/2 HARD'"
      ]
     },
     "execution_count": 140,
     "metadata": {},
     "output_type": "execute_result"
    }
   ],
   "source": [
    "# creating bluebring for stripping text\n",
    "\n"
   ]
  },
  {
   "cell_type": "code",
   "execution_count": 10,
   "metadata": {},
   "outputs": [
    {
     "data": {
      "text/plain": [
       "80"
      ]
     },
     "execution_count": 10,
     "metadata": {},
     "output_type": "execute_result"
    }
   ],
   "source": [
    "table_iterator[0:14] # there are 14 elements per row in table_iterator\n",
    "\n",
    "# getting the number of observations per row\n",
    "\n",
    "number_of_rows = int(len(table_iterator)/14)\n",
    "\n",
    "number_of_rows"
   ]
  },
  {
   "cell_type": "code",
   "execution_count": 11,
   "metadata": {},
   "outputs": [],
   "source": [
    "# reshaping table_iterator\n",
    "table_iterator_np = np.array(table_iterator)\n",
    "\n",
    "table_iterator_np.shape = (number_of_rows,14)"
   ]
  },
  {
   "cell_type": "code",
   "execution_count": 12,
   "metadata": {},
   "outputs": [],
   "source": [
    "table_iterator_np_T = table_iterator_np.T"
   ]
  },
  {
   "cell_type": "code",
   "execution_count": 15,
   "metadata": {},
   "outputs": [],
   "source": [
    "for i in range(table_iterator_np_T.shape[0]):\n",
    "    business_unit_dict[list(business_unit_dict.keys())[i]] = table_iterator_np_T[i]"
   ]
  },
  {
   "cell_type": "code",
   "execution_count": 29,
   "metadata": {},
   "outputs": [],
   "source": [
    "business_unit_dict['Location']\n",
    "\n",
    "\n"
   ]
  },
  {
   "cell_type": "code",
   "execution_count": null,
   "metadata": {},
   "outputs": [],
   "source": []
  }
 ],
 "metadata": {
  "kernelspec": {
   "display_name": "Python 3",
   "language": "python",
   "name": "python3"
  },
  "language_info": {
   "codemirror_mode": {
    "name": "ipython",
    "version": 3
   },
   "file_extension": ".py",
   "mimetype": "text/x-python",
   "name": "python",
   "nbconvert_exporter": "python",
   "pygments_lexer": "ipython3",
   "version": "3.6.8"
  }
 },
 "nbformat": 4,
 "nbformat_minor": 2
}
