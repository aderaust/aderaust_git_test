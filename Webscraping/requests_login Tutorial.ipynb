{
 "cells": [
  {
   "cell_type": "code",
   "execution_count": 2,
   "metadata": {},
   "outputs": [],
   "source": [
    "import requests\n",
    "from bs4 import BeautifulSoup as soup\n",
    "import json\n",
    "\n",
    "# creating a session allows you to store data\n",
    "session = requests.Session()\n",
    "\n",
    "jar = requests.cookies.RequestsCookieJar()\n",
    "\n",
    "jar.set('name_of_cookie', 'value of cookie')\n",
    "\n",
    "\n",
    "session.cookies = jar\n",
    "\n",
    "r = session.get('https://www.ccn.com/bitcoin-price')"
   ]
  },
  {
   "cell_type": "code",
   "execution_count": 3,
   "metadata": {},
   "outputs": [
    {
     "name": "stdout",
     "output_type": "stream",
     "text": [
      "<html>\n",
      "<head><title>403 Forbidden</title></head>\n",
      "<body bgcolor=\"white\">\n",
      "<center><h1>403 Forbidden</h1></center>\n",
      "<hr><center>nginx</center>\n",
      "</body>\n",
      "</html>\n",
      "\n"
     ]
    }
   ],
   "source": [
    "print(r.text)"
   ]
  },
  {
   "cell_type": "code",
   "execution_count": 4,
   "metadata": {},
   "outputs": [],
   "source": [
    "response = requests.get('https://twitter.com/JakeBolthouse')"
   ]
  },
  {
   "cell_type": "code",
   "execution_count": 5,
   "metadata": {},
   "outputs": [
    {
     "data": {
      "text/plain": [
       "{'_twitter_sess': 'BAh7CSIKZmxhc2hJQzonQWN0aW9uQ29udHJvbGxlcjo6Rmxhc2g6OkZsYXNo%250ASGFzaHsABjoKQHVzZWR7ADoPY3JlYXRlZF9hdGwrCBa40e9qAToMY3NyZl9p%250AZCIlNzBkYmJhYmQ5ZGZkNGZkZWFiZGFmYmI1NzA1YTI5NGI6B2lkIiU2MzU2%250ANzEwYjM3ODM0MmU3NWQwYjkyOWI4MzIzNTJhYw%253D%253D--0bda34f30fce4ff2671447b4612bee5eeb119f14',\n",
       " 'ct0': '9b36cd86ae0e117ad17de71d69577132',\n",
       " 'guest_id': 'v1%3A155880165992495963',\n",
       " 'personalization_id': '\"v1_nrQ2MAPgIuMBRcch8ZIcPg==\"'}"
      ]
     },
     "execution_count": 5,
     "metadata": {},
     "output_type": "execute_result"
    }
   ],
   "source": [
    "# how to get all the name and values of cookies based on \n",
    "# a link\n",
    "\n",
    "response.cookies.get_dict()\n"
   ]
  },
  {
   "cell_type": "code",
   "execution_count": 6,
   "metadata": {},
   "outputs": [
    {
     "data": {
      "text/plain": [
       "'{\\n  \"cookies\": {\\n    \"first_cookie\": \"first\", \\n    \"third_cookie\": \"third\"\\n  }\\n}\\n'"
      ]
     },
     "execution_count": 6,
     "metadata": {},
     "output_type": "execute_result"
    }
   ],
   "source": [
    "# creating a cookie jar \n",
    "\n",
    "# jar is a container that allows you to organize cookies\n",
    "jar = requests.cookies.RequestsCookieJar()\n",
    "\n",
    "# domain parameter which cookie to use with which corresponding link\n",
    "jar.set('first_cookie', 'first', domain='httpbin.org', path='/cookies')\n",
    "jar.set('second_cookie', 'second', domain='httpbin.org', path='/extra')\n",
    "jar.set('third_cookie', 'third', domain='httpbin.org', path='/cookies')\n",
    " \n",
    "    \n",
    "url = 'http://httpbin.org/cookies'\n",
    "req = requests.get(url, cookies=jar)\n",
    " \n",
    "req.text\n",
    " \n",
    "# returns '{ \"cookies\": { \"first_cookie\": \"first\", \"third_cookie\": \"third\" }}'"
   ]
  },
  {
   "cell_type": "code",
   "execution_count": 7,
   "metadata": {},
   "outputs": [],
   "source": [
    "# response.content returns the raw bites\n",
    "\n",
    "# response.texts is used if you only want the text\n",
    "\n",
    "# for beautiful soup use .content if you want things like images"
   ]
  },
  {
   "cell_type": "code",
   "execution_count": 8,
   "metadata": {},
   "outputs": [],
   "source": [
    "# soup(response.content)"
   ]
  },
  {
   "cell_type": "code",
   "execution_count": 9,
   "metadata": {},
   "outputs": [
    {
     "name": "stdout",
     "output_type": "stream",
     "text": [
      "{\n",
      "  \"cookies\": {\n",
      "    \"visit-month\": \"February\"\n",
      "  }\n",
      "}\n",
      "\n",
      "{\n",
      "  \"cookies\": {\n",
      "    \"visit-month\": \"February\", \n",
      "    \"visit-year\": \"2017\"\n",
      "  }\n",
      "}\n",
      "\n",
      "{\n",
      "  \"cookies\": {\n",
      "    \"visit-month\": \"February\"\n",
      "  }\n",
      "}\n",
      "\n"
     ]
    }
   ],
   "source": [
    "import requests\n",
    " \n",
    "ssn = requests.Session()\n",
    "\n",
    "# the visit-month cookie will sent for all requests\n",
    "ssn.cookies.update({'visit-month': 'February'})\n",
    " \n",
    "reqOne = ssn.get('http://httpbin.org/cookies')\n",
    "print(reqOne.text)\n",
    "# prints information about \"visit-month\" cookie\n",
    " \n",
    "# visit-year cookie will only be sent for this request\n",
    "reqTwo = ssn.get('http://httpbin.org/cookies', cookies={'visit-year': '2017'})\n",
    "print(reqTwo.text)\n",
    "# prints information about \"visit-month\" and \"visit-year\" cookie\n",
    " \n",
    "reqThree = ssn.get('http://httpbin.org/cookies')\n",
    "print(reqThree.text)\n",
    "# prints information about \"visit-month\" cookie\n",
    "\n"
   ]
  },
  {
   "cell_type": "code",
   "execution_count": 62,
   "metadata": {
    "scrolled": true
   },
   "outputs": [],
   "source": [
    "# get is used to retrive data\n",
    "\n",
    "# post is used to send dat\n",
    "\n",
    "\n",
    "payload = {'search_query' : 'rollling+stones+live'}\n",
    "single_search = requests.get('https://www.youtube.com/results', payload )\n",
    "\n"
   ]
  },
  {
   "cell_type": "code",
   "execution_count": 63,
   "metadata": {},
   "outputs": [],
   "source": [
    "# ?v=VgqyrkJaXY0\n",
    "\n",
    "# i need to be able to scrape this tag\n",
    "search_soup = soup(single_search.text, 'html.parser')\n",
    "\n",
    "\n"
   ]
  },
  {
   "cell_type": "code",
   "execution_count": 68,
   "metadata": {},
   "outputs": [],
   "source": [
    "# search_soup.find('div')\n",
    "\n",
    "\n",
    "\n",
    "# search_soup.find('a', {'id' : 'video-title', 'class' :\n",
    "#                       'yt-simple-endpoint'})\n",
    "\n",
    "\n",
    "vids = search_soup.findAll('a',attrs={'class':'yt-uix-tile-link'})\n"
   ]
  },
  {
   "cell_type": "code",
   "execution_count": 69,
   "metadata": {},
   "outputs": [],
   "source": [
    "videolist=[]\n",
    "for v in vids:\n",
    "    tmp = 'https://www.youtube.com' + v['href']\n",
    "    videolist.append(tmp)"
   ]
  },
  {
   "cell_type": "code",
   "execution_count": 70,
   "metadata": {},
   "outputs": [
    {
     "data": {
      "text/plain": [
       "['https://www.youtube.com/watch?v=9pamw2gMqLI',\n",
       " 'https://www.youtube.com/watch?v=JfkQU4NZZH0',\n",
       " 'https://www.youtube.com/watch?v=bj8lRssjN48',\n",
       " 'https://www.youtube.com/watch?v=8HpM6Ha8NEw',\n",
       " 'https://www.youtube.com/watch?v=1IOL-VT-WnE',\n",
       " 'https://www.youtube.com/watch?v=kZUgvGEOMGM',\n",
       " 'https://www.youtube.com/watch?v=SoYyuP13enw',\n",
       " 'https://www.youtube.com/watch?v=g6ugTf0QV3A',\n",
       " 'https://www.youtube.com/user/TheRollingStones',\n",
       " 'https://www.youtube.com/watch?v=wy3RdCd9zAM',\n",
       " 'https://www.youtube.com/watch?v=t87B4frtEh8',\n",
       " 'https://www.youtube.com/watch?v=tIfQipkkOqs',\n",
       " 'https://www.youtube.com/watch?v=dx2WRQLSIew',\n",
       " 'https://www.youtube.com/watch?v=DVJkfXeTs9Q',\n",
       " 'https://www.youtube.com/watch?v=pqK-J9S2GXs',\n",
       " 'https://www.youtube.com/watch?v=DRot9IjNSso',\n",
       " 'https://www.youtube.com/watch?v=Fmfi3UbDPnQ&list=RDQMF69dYjTu3Mg&start_radio=1',\n",
       " 'https://www.youtube.com/watch?v=qAzqSYQ9X9U',\n",
       " 'https://www.youtube.com/watch?v=FoNSFFhyEi8',\n",
       " 'https://www.youtube.com/watch?v=ZRXGsPBUV5g']"
      ]
     },
     "execution_count": 70,
     "metadata": {},
     "output_type": "execute_result"
    }
   ],
   "source": [
    "videolist"
   ]
  },
  {
   "cell_type": "code",
   "execution_count": null,
   "metadata": {},
   "outputs": [],
   "source": [
    "search_soup.find(//*[@id=\"contents\"])"
   ]
  },
  {
   "cell_type": "code",
   "execution_count": 71,
   "metadata": {},
   "outputs": [
    {
     "ename": "WebDriverException",
     "evalue": "Message: 'chromedriver' executable needs to be in PATH. Please see https://sites.google.com/a/chromium.org/chromedriver/home\n",
     "output_type": "error",
     "traceback": [
      "\u001b[0;31m---------------------------------------------------------------------------\u001b[0m",
      "\u001b[0;31mFileNotFoundError\u001b[0m                         Traceback (most recent call last)",
      "\u001b[0;32m~/anaconda3/lib/python3.6/site-packages/selenium/webdriver/common/service.py\u001b[0m in \u001b[0;36mstart\u001b[0;34m(self)\u001b[0m\n\u001b[1;32m     75\u001b[0m                                             \u001b[0mstderr\u001b[0m\u001b[0;34m=\u001b[0m\u001b[0mself\u001b[0m\u001b[0;34m.\u001b[0m\u001b[0mlog_file\u001b[0m\u001b[0;34m,\u001b[0m\u001b[0;34m\u001b[0m\u001b[0;34m\u001b[0m\u001b[0m\n\u001b[0;32m---> 76\u001b[0;31m                                             stdin=PIPE)\n\u001b[0m\u001b[1;32m     77\u001b[0m         \u001b[0;32mexcept\u001b[0m \u001b[0mTypeError\u001b[0m\u001b[0;34m:\u001b[0m\u001b[0;34m\u001b[0m\u001b[0;34m\u001b[0m\u001b[0m\n",
      "\u001b[0;32m~/anaconda3/lib/python3.6/subprocess.py\u001b[0m in \u001b[0;36m__init__\u001b[0;34m(self, args, bufsize, executable, stdin, stdout, stderr, preexec_fn, close_fds, shell, cwd, env, universal_newlines, startupinfo, creationflags, restore_signals, start_new_session, pass_fds, encoding, errors)\u001b[0m\n\u001b[1;32m    728\u001b[0m                                 \u001b[0merrread\u001b[0m\u001b[0;34m,\u001b[0m \u001b[0merrwrite\u001b[0m\u001b[0;34m,\u001b[0m\u001b[0;34m\u001b[0m\u001b[0;34m\u001b[0m\u001b[0m\n\u001b[0;32m--> 729\u001b[0;31m                                 restore_signals, start_new_session)\n\u001b[0m\u001b[1;32m    730\u001b[0m         \u001b[0;32mexcept\u001b[0m\u001b[0;34m:\u001b[0m\u001b[0;34m\u001b[0m\u001b[0;34m\u001b[0m\u001b[0m\n",
      "\u001b[0;32m~/anaconda3/lib/python3.6/subprocess.py\u001b[0m in \u001b[0;36m_execute_child\u001b[0;34m(self, args, executable, preexec_fn, close_fds, pass_fds, cwd, env, startupinfo, creationflags, shell, p2cread, p2cwrite, c2pread, c2pwrite, errread, errwrite, restore_signals, start_new_session)\u001b[0m\n\u001b[1;32m   1363\u001b[0m                             \u001b[0merr_msg\u001b[0m \u001b[0;34m+=\u001b[0m \u001b[0;34m': '\u001b[0m \u001b[0;34m+\u001b[0m \u001b[0mrepr\u001b[0m\u001b[0;34m(\u001b[0m\u001b[0merr_filename\u001b[0m\u001b[0;34m)\u001b[0m\u001b[0;34m\u001b[0m\u001b[0;34m\u001b[0m\u001b[0m\n\u001b[0;32m-> 1364\u001b[0;31m                     \u001b[0;32mraise\u001b[0m \u001b[0mchild_exception_type\u001b[0m\u001b[0;34m(\u001b[0m\u001b[0merrno_num\u001b[0m\u001b[0;34m,\u001b[0m \u001b[0merr_msg\u001b[0m\u001b[0;34m,\u001b[0m \u001b[0merr_filename\u001b[0m\u001b[0;34m)\u001b[0m\u001b[0;34m\u001b[0m\u001b[0;34m\u001b[0m\u001b[0m\n\u001b[0m\u001b[1;32m   1365\u001b[0m                 \u001b[0;32mraise\u001b[0m \u001b[0mchild_exception_type\u001b[0m\u001b[0;34m(\u001b[0m\u001b[0merr_msg\u001b[0m\u001b[0;34m)\u001b[0m\u001b[0;34m\u001b[0m\u001b[0;34m\u001b[0m\u001b[0m\n",
      "\u001b[0;31mFileNotFoundError\u001b[0m: [Errno 2] No such file or directory: 'chromedriver': 'chromedriver'",
      "\nDuring handling of the above exception, another exception occurred:\n",
      "\u001b[0;31mWebDriverException\u001b[0m                        Traceback (most recent call last)",
      "\u001b[0;32m<ipython-input-71-927f41d585b4>\u001b[0m in \u001b[0;36m<module>\u001b[0;34m\u001b[0m\n\u001b[1;32m      3\u001b[0m \u001b[0;32mimport\u001b[0m \u001b[0mtime\u001b[0m\u001b[0;34m\u001b[0m\u001b[0;34m\u001b[0m\u001b[0m\n\u001b[1;32m      4\u001b[0m \u001b[0;34m\u001b[0m\u001b[0m\n\u001b[0;32m----> 5\u001b[0;31m \u001b[0mdriver\u001b[0m\u001b[0;34m=\u001b[0m\u001b[0mwebdriver\u001b[0m\u001b[0;34m.\u001b[0m\u001b[0mChrome\u001b[0m\u001b[0;34m(\u001b[0m\u001b[0;34m)\u001b[0m\u001b[0;34m\u001b[0m\u001b[0;34m\u001b[0m\u001b[0m\n\u001b[0m\u001b[1;32m      6\u001b[0m \u001b[0;34m\u001b[0m\u001b[0m\n\u001b[1;32m      7\u001b[0m \u001b[0mdriver\u001b[0m\u001b[0;34m.\u001b[0m\u001b[0mget\u001b[0m\u001b[0;34m(\u001b[0m\u001b[0;34m'https://www.youtube.com/watch?v=iFPMz36std4'\u001b[0m\u001b[0;34m)\u001b[0m\u001b[0;34m\u001b[0m\u001b[0;34m\u001b[0m\u001b[0m\n",
      "\u001b[0;32m~/anaconda3/lib/python3.6/site-packages/selenium/webdriver/chrome/webdriver.py\u001b[0m in \u001b[0;36m__init__\u001b[0;34m(self, executable_path, port, options, service_args, desired_capabilities, service_log_path, chrome_options, keep_alive)\u001b[0m\n\u001b[1;32m     71\u001b[0m             \u001b[0mservice_args\u001b[0m\u001b[0;34m=\u001b[0m\u001b[0mservice_args\u001b[0m\u001b[0;34m,\u001b[0m\u001b[0;34m\u001b[0m\u001b[0;34m\u001b[0m\u001b[0m\n\u001b[1;32m     72\u001b[0m             log_path=service_log_path)\n\u001b[0;32m---> 73\u001b[0;31m         \u001b[0mself\u001b[0m\u001b[0;34m.\u001b[0m\u001b[0mservice\u001b[0m\u001b[0;34m.\u001b[0m\u001b[0mstart\u001b[0m\u001b[0;34m(\u001b[0m\u001b[0;34m)\u001b[0m\u001b[0;34m\u001b[0m\u001b[0;34m\u001b[0m\u001b[0m\n\u001b[0m\u001b[1;32m     74\u001b[0m \u001b[0;34m\u001b[0m\u001b[0m\n\u001b[1;32m     75\u001b[0m         \u001b[0;32mtry\u001b[0m\u001b[0;34m:\u001b[0m\u001b[0;34m\u001b[0m\u001b[0;34m\u001b[0m\u001b[0m\n",
      "\u001b[0;32m~/anaconda3/lib/python3.6/site-packages/selenium/webdriver/common/service.py\u001b[0m in \u001b[0;36mstart\u001b[0;34m(self)\u001b[0m\n\u001b[1;32m     81\u001b[0m                 raise WebDriverException(\n\u001b[1;32m     82\u001b[0m                     \"'%s' executable needs to be in PATH. %s\" % (\n\u001b[0;32m---> 83\u001b[0;31m                         os.path.basename(self.path), self.start_error_message)\n\u001b[0m\u001b[1;32m     84\u001b[0m                 )\n\u001b[1;32m     85\u001b[0m             \u001b[0;32melif\u001b[0m \u001b[0merr\u001b[0m\u001b[0;34m.\u001b[0m\u001b[0merrno\u001b[0m \u001b[0;34m==\u001b[0m \u001b[0merrno\u001b[0m\u001b[0;34m.\u001b[0m\u001b[0mEACCES\u001b[0m\u001b[0;34m:\u001b[0m\u001b[0;34m\u001b[0m\u001b[0;34m\u001b[0m\u001b[0m\n",
      "\u001b[0;31mWebDriverException\u001b[0m: Message: 'chromedriver' executable needs to be in PATH. Please see https://sites.google.com/a/chromium.org/chromedriver/home\n"
     ]
    }
   ],
   "source": [
    "from selenium import webdriver\n",
    "\n",
    "import time\n",
    "\n",
    "driver=webdriver.Chrome()\n",
    "\n",
    "driver.get('https://www.youtube.com/watch?v=iFPMz36std4')\n",
    "\n",
    "driver.execute_script('window.scrollTo(1, 500);')\n",
    "\n",
    "#now wait let load the comments\n",
    "time.sleep(5)\n",
    "\n",
    "driver.execute_script('window.scrollTo(1, 3000);')\n",
    "\n",
    "\n",
    "\n",
    "comment_div=driver.find_element_by_xpath('//*[@id=\"contents\"]')\n",
    "comments=comment_div.find_elements_by_xpath('//*[@id=\"content-text\"]')\n",
    "for comment in comments:\n",
    "    print(comment.text)"
   ]
  },
  {
   "cell_type": "code",
   "execution_count": null,
   "metadata": {},
   "outputs": [],
   "source": [
    "# while True:\n",
    "#     # ... do and print request\n",
    "#     time.sleep(1) # then wait one second\n",
    "\n",
    "\n",
    "## how to infintly refresh page"
   ]
  }
 ],
 "metadata": {
  "kernelspec": {
   "display_name": "Python 3",
   "language": "python",
   "name": "python3"
  },
  "language_info": {
   "codemirror_mode": {
    "name": "ipython",
    "version": 3
   },
   "file_extension": ".py",
   "mimetype": "text/x-python",
   "name": "python",
   "nbconvert_exporter": "python",
   "pygments_lexer": "ipython3",
   "version": "3.6.8"
  }
 },
 "nbformat": 4,
 "nbformat_minor": 2
}
