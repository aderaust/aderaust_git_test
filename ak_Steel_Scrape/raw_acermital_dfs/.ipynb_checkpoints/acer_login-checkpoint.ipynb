{
 "cells": [
  {
   "cell_type": "code",
   "execution_count": 1,
   "metadata": {},
   "outputs": [],
   "source": [
    "from selenium import webdriver\n",
    "from webdriver_manager.chrome import ChromeDriverManager\n",
    "\n",
    "from selenium.webdriver.chrome.options import Options\n",
    "\n",
    "import os\n",
    "import time\n",
    "import numpy as np\n",
    "\n",
    "from datetime import date"
   ]
  },
  {
   "cell_type": "markdown",
   "metadata": {},
   "source": [
    "## creating current directory everyday"
   ]
  },
  {
   "cell_type": "code",
   "execution_count": 2,
   "metadata": {},
   "outputs": [],
   "source": [
    "desired_directory = '/Users/austinader/ak_Steel_Scrape/raw_acermital_dfs'\n",
    "\n",
    "\n",
    "\n",
    "def create_directory():\n",
    "\n",
    "    os.chdir(desired_directory)\n",
    "    current_day = date.today()\n",
    "\n",
    "    current_day_pretty = current_day.strftime(\"%m_%d_%y\")\n",
    "\n",
    "\n",
    "\n",
    "    if current_day_pretty not in os.listdir():  ## make directory named today's date if todays directory is not already in working directory\n",
    "        os.makedirs(current_day_pretty)\n",
    "       \n",
    "    final_directory = desired_directory + '/' + current_day_pretty\n",
    "    \n",
    "    os.chdir(final_directory)\n",
    "    \n",
    "    return final_directory\n",
    "        "
   ]
  },
  {
   "cell_type": "markdown",
   "metadata": {},
   "source": [
    "## setting chrome options and opening the webpage"
   ]
  },
  {
   "cell_type": "code",
   "execution_count": 3,
   "metadata": {},
   "outputs": [],
   "source": [
    "todays_directory = create_directory()\n",
    "\n",
    "# chromeOptions = Options()\n",
    "\n",
    "# chromeOptions.add_experimental_option(\"prefs\",{'download.default_directory': todays_directory})\n",
    "\n",
    "# browser = webdriver.Chrome(ChromeDriverManager().install(), options= chromeOptions)\n",
    "# browser.get('https://pc.arcelormittal.com/partnercentre/Login')\n",
    "# test = browser.find_element_by_css_selector('button')\n",
    "\n",
    "\n",
    "\n"
   ]
  },
  {
   "cell_type": "code",
   "execution_count": 4,
   "metadata": {},
   "outputs": [],
   "source": [
    "## creating function to log in and pull every dataframe\n",
    "\n",
    "\n",
    "def log_n_pull():\n",
    "    chromeOptions = Options()\n",
    "\n",
    "    chromeOptions.add_experimental_option(\"prefs\",{'download.default_directory': todays_directory})\n",
    "\n",
    "    browser = webdriver.Chrome(ChromeDriverManager().install(), options= chromeOptions)\n",
    "    browser.get('https://pc.arcelormittal.com/partnercentre/Login')\n",
    "    test = browser.find_element_by_css_selector('button')\n",
    "    \n",
    "    time.sleep(1 + np.random.random())\n",
    "\n",
    "    email_cred = browser.find_element_by_id(\"defaultLoginFormEmail\")\n",
    "\n",
    "\n",
    "    password_cred = browser.find_element_by_id(\"defaultLoginFormPassword\")\n",
    "\n",
    "    time.sleep(1 + np.random.random())\n",
    "\n",
    "\n",
    "    email_cred.send_keys('msimone')\n",
    "\n",
    "    time.sleep(1 + np.random.random())\n",
    "\n",
    "    password_cred.send_keys('targetsteel1')\n",
    "\n",
    "    time.sleep(1 + np.random.random())\n",
    "\n",
    "    browser.find_element_by_xpath('/html/body/main/div/div/div/div[3]/div[1]/div/div/div/form/div[6]/button').click()\n",
    "\n",
    "    time.sleep(1 + np.random.random())\n",
    "\n",
    "\n",
    "    browser.get('https://pc.arcelormittal.com/PartnerCentre/inv4Sale_InvConsReport.asp?RptID=53')\n",
    "\n",
    "    time.sleep(1 + np.random.random())\n",
    "\n",
    "\n",
    "    browser.find_element_by_xpath('//*[@id=\"butEXCELReport1\"]').click()\n",
    "    \n",
    "    \n",
    "    count_raw = browser.find_element_by_xpath(\"/html/body/table[3]/tbody/tr/td[2]/table/tbody/tr/td/form/table[1]/tbody/tr[5]/td[2]\").text\n",
    "\n",
    "    count_raw_list = [x for x in count_raw.split()]  \n",
    "\n",
    "    count_list = [int(item) for subitem in count_raw_list for item in subitem.split() if item.isdigit()]\n",
    "\n",
    "    page_count = max(count_list)\n",
    "\n",
    "\n",
    "    for i in range(page_count - 1):\n",
    "        time.sleep(np.random.rand())\n",
    "        browser.find_element_by_xpath('//*[@id=\"spanPAGE1\"]/a[2]').click()\n",
    "    "
   ]
  },
  {
   "cell_type": "code",
   "execution_count": 5,
   "metadata": {},
   "outputs": [
    {
     "name": "stdout",
     "output_type": "stream",
     "text": [
      "\n",
      "Checking for mac64 chromedriver:76.0.3809.68 in cache\n",
      "Driver found in /Users/austinader/.wdm/chromedriver/76.0.3809.68/mac64/chromedriver\n"
     ]
    }
   ],
   "source": [
    "log_n_pull()"
   ]
  }
 ],
 "metadata": {
  "kernelspec": {
   "display_name": "Python 3",
   "language": "python",
   "name": "python3"
  },
  "language_info": {
   "codemirror_mode": {
    "name": "ipython",
    "version": 3
   },
   "file_extension": ".py",
   "mimetype": "text/x-python",
   "name": "python",
   "nbconvert_exporter": "python",
   "pygments_lexer": "ipython3",
   "version": "3.6.8"
  }
 },
 "nbformat": 4,
 "nbformat_minor": 2
}
